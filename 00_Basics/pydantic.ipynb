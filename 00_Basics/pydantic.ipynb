{
 "cells": [
  {
   "cell_type": "markdown",
   "id": "fa54bc4a",
   "metadata": {},
   "source": [
    "Pydantic:\n",
    "When you create an instance of a Pydantic model, it automatically parses and validates the input data.\n",
    "It is widely used in FastAPI and other frameworks for clean, reliable API and data handling.\n",
    "Pydantic also supports advanced features like custom validators, nested models, and JSON serialization.\n"
   ]
  },
  {
   "cell_type": "code",
   "execution_count": 1,
   "id": "f4afd36c",
   "metadata": {},
   "outputs": [
    {
     "name": "stdout",
     "output_type": "stream",
     "text": [
      "User(id=1, name='Alice', age=30)\n"
     ]
    }
   ],
   "source": [
    "from pydantic.dataclasses import dataclass\n",
    "\n",
    "@dataclass\n",
    "class User:\n",
    "    id: int\n",
    "    name: str\n",
    "    age: int\n",
    "\n",
    "# Automatically coerces and validates types\n",
    "solution = User(id=\"1\", name=\"Alice\", age=\"30\")\n",
    "print(solution)"
   ]
  },
  {
   "cell_type": "markdown",
   "id": "36535c53",
   "metadata": {},
   "source": [
    "BASE MODEL\n",
    "Using Pydantic’s BaseModel is the most common way to define data models in Pydantic. It provides powerful features like: Automatic type, validation,Type coercion,Custom validators,Nested models"
   ]
  },
  {
   "cell_type": "code",
   "execution_count": 4,
   "id": "a1c5502a",
   "metadata": {},
   "outputs": [
    {
     "ename": "ValidationError",
     "evalue": "1 validation error for Product\nstock_list.2\n  Input should be a valid string [type=string_type, input_value=1, input_type=int]\n    For further information visit https://errors.pydantic.dev/2.11/v/string_type",
     "output_type": "error",
     "traceback": [
      "\u001b[1;31m---------------------------------------------------------------------------\u001b[0m",
      "\u001b[1;31mValidationError\u001b[0m                           Traceback (most recent call last)",
      "Cell \u001b[1;32mIn[4], line 12\u001b[0m\n\u001b[0;32m      9\u001b[0m     in_stock: Optional[\u001b[38;5;28mbool\u001b[39m] \u001b[38;5;241m=\u001b[39m \u001b[38;5;28;01mFalse\u001b[39;00m  \u001b[38;5;66;03m# Now it's optional\u001b[39;00m\n\u001b[0;32m     11\u001b[0m item \u001b[38;5;241m=\u001b[39m Product(name\u001b[38;5;241m=\u001b[39m\u001b[38;5;124m\"\u001b[39m\u001b[38;5;124mChocolate\u001b[39m\u001b[38;5;124m\"\u001b[39m, price\u001b[38;5;241m=\u001b[39m\u001b[38;5;124m'\u001b[39m\u001b[38;5;124m2.99\u001b[39m\u001b[38;5;124m'\u001b[39m,stock_list\u001b[38;5;241m=\u001b[39m[\u001b[38;5;124m\"\u001b[39m\u001b[38;5;124mitem1\u001b[39m\u001b[38;5;124m\"\u001b[39m, \u001b[38;5;124m\"\u001b[39m\u001b[38;5;124mitem2\u001b[39m\u001b[38;5;124m\"\u001b[39m])\n\u001b[1;32m---> 12\u001b[0m item1 \u001b[38;5;241m=\u001b[39m \u001b[43mProduct\u001b[49m\u001b[43m(\u001b[49m\u001b[43mname\u001b[49m\u001b[38;5;241;43m=\u001b[39;49m\u001b[38;5;124;43m\"\u001b[39;49m\u001b[38;5;124;43mChocolate\u001b[39;49m\u001b[38;5;124;43m\"\u001b[39;49m\u001b[43m,\u001b[49m\u001b[43m \u001b[49m\u001b[43mprice\u001b[49m\u001b[38;5;241;43m=\u001b[39;49m\u001b[38;5;241;43m2.99\u001b[39;49m\u001b[43m,\u001b[49m\u001b[43min_stock\u001b[49m\u001b[38;5;241;43m=\u001b[39;49m\u001b[38;5;28;43;01mTrue\u001b[39;49;00m\u001b[43m,\u001b[49m\u001b[43mstock_list\u001b[49m\u001b[38;5;241;43m=\u001b[39;49m\u001b[43m(\u001b[49m\u001b[38;5;124;43m\"\u001b[39;49m\u001b[38;5;124;43mitem1\u001b[39;49m\u001b[38;5;124;43m\"\u001b[39;49m\u001b[43m,\u001b[49m\u001b[43m \u001b[49m\u001b[38;5;124;43m\"\u001b[39;49m\u001b[38;5;124;43mitem2\u001b[39;49m\u001b[38;5;124;43m\"\u001b[39;49m\u001b[43m,\u001b[49m\u001b[38;5;241;43m1\u001b[39;49m\u001b[43m)\u001b[49m\u001b[43m)\u001b[49m\n\u001b[0;32m     13\u001b[0m \u001b[38;5;28mprint\u001b[39m(item)\n\u001b[0;32m     14\u001b[0m \u001b[38;5;28mprint\u001b[39m(item1)\n",
      "File \u001b[1;32mc:\\anaconda4\\envs\\venv_satish\\lib\\site-packages\\pydantic\\main.py:253\u001b[0m, in \u001b[0;36mBaseModel.__init__\u001b[1;34m(self, **data)\u001b[0m\n\u001b[0;32m    251\u001b[0m \u001b[38;5;66;03m# `__tracebackhide__` tells pytest and some other tools to omit this function from tracebacks\u001b[39;00m\n\u001b[0;32m    252\u001b[0m __tracebackhide__ \u001b[38;5;241m=\u001b[39m \u001b[38;5;28;01mTrue\u001b[39;00m\n\u001b[1;32m--> 253\u001b[0m validated_self \u001b[38;5;241m=\u001b[39m \u001b[38;5;28;43mself\u001b[39;49m\u001b[38;5;241;43m.\u001b[39;49m\u001b[43m__pydantic_validator__\u001b[49m\u001b[38;5;241;43m.\u001b[39;49m\u001b[43mvalidate_python\u001b[49m\u001b[43m(\u001b[49m\u001b[43mdata\u001b[49m\u001b[43m,\u001b[49m\u001b[43m \u001b[49m\u001b[43mself_instance\u001b[49m\u001b[38;5;241;43m=\u001b[39;49m\u001b[38;5;28;43mself\u001b[39;49m\u001b[43m)\u001b[49m\n\u001b[0;32m    254\u001b[0m \u001b[38;5;28;01mif\u001b[39;00m \u001b[38;5;28mself\u001b[39m \u001b[38;5;129;01mis\u001b[39;00m \u001b[38;5;129;01mnot\u001b[39;00m validated_self:\n\u001b[0;32m    255\u001b[0m     warnings\u001b[38;5;241m.\u001b[39mwarn(\n\u001b[0;32m    256\u001b[0m         \u001b[38;5;124m'\u001b[39m\u001b[38;5;124mA custom validator is returning a value other than `self`.\u001b[39m\u001b[38;5;130;01m\\n\u001b[39;00m\u001b[38;5;124m'\u001b[39m\n\u001b[0;32m    257\u001b[0m         \u001b[38;5;124m\"\u001b[39m\u001b[38;5;124mReturning anything other than `self` from a top level model validator isn\u001b[39m\u001b[38;5;124m'\u001b[39m\u001b[38;5;124mt supported when validating via `__init__`.\u001b[39m\u001b[38;5;130;01m\\n\u001b[39;00m\u001b[38;5;124m\"\u001b[39m\n\u001b[0;32m    258\u001b[0m         \u001b[38;5;124m'\u001b[39m\u001b[38;5;124mSee the `model_validator` docs (https://docs.pydantic.dev/latest/concepts/validators/#model-validators) for more details.\u001b[39m\u001b[38;5;124m'\u001b[39m,\n\u001b[0;32m    259\u001b[0m         stacklevel\u001b[38;5;241m=\u001b[39m\u001b[38;5;241m2\u001b[39m,\n\u001b[0;32m    260\u001b[0m     )\n",
      "\u001b[1;31mValidationError\u001b[0m: 1 validation error for Product\nstock_list.2\n  Input should be a valid string [type=string_type, input_value=1, input_type=int]\n    For further information visit https://errors.pydantic.dev/2.11/v/string_type"
     ]
    }
   ],
   "source": [
    "from pydantic import BaseModel, ValidationError\n",
    "from typing import Optional,List\n",
    "\n",
    "\n",
    "class Product(BaseModel):\n",
    "    name: str\n",
    "    price: float\n",
    "    stock_list : Optional[List[str]] = []\n",
    "    in_stock: Optional[bool] = False  # Now it's optional\n",
    "\n",
    "item = Product(name=\"Chocolate\", price='2.99',stock_list=[\"item1\", \"item2\"])\n",
    "item1 = Product(name=\"Chocolate\", price=2.99,in_stock=True,stock_list=(\"item1\", \"item2\",1))\n",
    "print(item)\n",
    "print(item1)"
   ]
  },
  {
   "cell_type": "markdown",
   "id": "324f5831",
   "metadata": {},
   "source": []
  },
  {
   "cell_type": "markdown",
   "id": "6e6569eb",
   "metadata": {},
   "source": [
    "STRICT MODE:\n",
    "--------------------\n",
    "Float allows type coercion, accepting strings, ints, and bools (e.g., “3.14”, 5, True → float).\n",
    "StrictFloat enforces exact float type, rejecting any non-float input (e.g., “3.14” or 5 will raise an error)."
   ]
  },
  {
   "cell_type": "markdown",
   "id": "d98c7c91",
   "metadata": {},
   "source": []
  },
  {
   "cell_type": "code",
   "execution_count": 5,
   "id": "32cdb54c",
   "metadata": {},
   "outputs": [
    {
     "ename": "ValidationError",
     "evalue": "1 validation error for Product\nprice\n  Input should be a valid number [type=float_type, input_value='2', input_type=str]\n    For further information visit https://errors.pydantic.dev/2.11/v/float_type",
     "output_type": "error",
     "traceback": [
      "\u001b[1;31m---------------------------------------------------------------------------\u001b[0m",
      "\u001b[1;31mValidationError\u001b[0m                           Traceback (most recent call last)",
      "Cell \u001b[1;32mIn[5], line 8\u001b[0m\n\u001b[0;32m      5\u001b[0m     price: \u001b[38;5;28mfloat\u001b[39m \u001b[38;5;241m=\u001b[39m Field(strict\u001b[38;5;241m=\u001b[39m\u001b[38;5;28;01mTrue\u001b[39;00m, description\u001b[38;5;241m=\u001b[39m\u001b[38;5;124m\"\u001b[39m\u001b[38;5;124mPrice of the product\u001b[39m\u001b[38;5;124m\"\u001b[39m)\n\u001b[0;32m      7\u001b[0m item \u001b[38;5;241m=\u001b[39m Product(name\u001b[38;5;241m=\u001b[39m\u001b[38;5;124m\"\u001b[39m\u001b[38;5;124mChocolate\u001b[39m\u001b[38;5;124m\"\u001b[39m, price\u001b[38;5;241m=\u001b[39m\u001b[38;5;241m2.99\u001b[39m)\n\u001b[1;32m----> 8\u001b[0m item1 \u001b[38;5;241m=\u001b[39m \u001b[43mProduct\u001b[49m\u001b[43m(\u001b[49m\u001b[43mname\u001b[49m\u001b[38;5;241;43m=\u001b[39;49m\u001b[38;5;124;43m\"\u001b[39;49m\u001b[38;5;124;43mChocolate\u001b[39;49m\u001b[38;5;124;43m\"\u001b[39;49m\u001b[43m,\u001b[49m\u001b[43m \u001b[49m\u001b[43mprice\u001b[49m\u001b[38;5;241;43m=\u001b[39;49m\u001b[38;5;124;43m\"\u001b[39;49m\u001b[38;5;124;43m2\u001b[39;49m\u001b[38;5;124;43m\"\u001b[39;49m\u001b[43m)\u001b[49m\n\u001b[0;32m     10\u001b[0m \u001b[38;5;28mprint\u001b[39m(item)\n\u001b[0;32m     11\u001b[0m \u001b[38;5;28mprint\u001b[39m(item1)\n",
      "File \u001b[1;32mc:\\anaconda4\\envs\\venv_satish\\lib\\site-packages\\pydantic\\main.py:253\u001b[0m, in \u001b[0;36mBaseModel.__init__\u001b[1;34m(self, **data)\u001b[0m\n\u001b[0;32m    251\u001b[0m \u001b[38;5;66;03m# `__tracebackhide__` tells pytest and some other tools to omit this function from tracebacks\u001b[39;00m\n\u001b[0;32m    252\u001b[0m __tracebackhide__ \u001b[38;5;241m=\u001b[39m \u001b[38;5;28;01mTrue\u001b[39;00m\n\u001b[1;32m--> 253\u001b[0m validated_self \u001b[38;5;241m=\u001b[39m \u001b[38;5;28;43mself\u001b[39;49m\u001b[38;5;241;43m.\u001b[39;49m\u001b[43m__pydantic_validator__\u001b[49m\u001b[38;5;241;43m.\u001b[39;49m\u001b[43mvalidate_python\u001b[49m\u001b[43m(\u001b[49m\u001b[43mdata\u001b[49m\u001b[43m,\u001b[49m\u001b[43m \u001b[49m\u001b[43mself_instance\u001b[49m\u001b[38;5;241;43m=\u001b[39;49m\u001b[38;5;28;43mself\u001b[39;49m\u001b[43m)\u001b[49m\n\u001b[0;32m    254\u001b[0m \u001b[38;5;28;01mif\u001b[39;00m \u001b[38;5;28mself\u001b[39m \u001b[38;5;129;01mis\u001b[39;00m \u001b[38;5;129;01mnot\u001b[39;00m validated_self:\n\u001b[0;32m    255\u001b[0m     warnings\u001b[38;5;241m.\u001b[39mwarn(\n\u001b[0;32m    256\u001b[0m         \u001b[38;5;124m'\u001b[39m\u001b[38;5;124mA custom validator is returning a value other than `self`.\u001b[39m\u001b[38;5;130;01m\\n\u001b[39;00m\u001b[38;5;124m'\u001b[39m\n\u001b[0;32m    257\u001b[0m         \u001b[38;5;124m\"\u001b[39m\u001b[38;5;124mReturning anything other than `self` from a top level model validator isn\u001b[39m\u001b[38;5;124m'\u001b[39m\u001b[38;5;124mt supported when validating via `__init__`.\u001b[39m\u001b[38;5;130;01m\\n\u001b[39;00m\u001b[38;5;124m\"\u001b[39m\n\u001b[0;32m    258\u001b[0m         \u001b[38;5;124m'\u001b[39m\u001b[38;5;124mSee the `model_validator` docs (https://docs.pydantic.dev/latest/concepts/validators/#model-validators) for more details.\u001b[39m\u001b[38;5;124m'\u001b[39m,\n\u001b[0;32m    259\u001b[0m         stacklevel\u001b[38;5;241m=\u001b[39m\u001b[38;5;241m2\u001b[39m,\n\u001b[0;32m    260\u001b[0m     )\n",
      "\u001b[1;31mValidationError\u001b[0m: 1 validation error for Product\nprice\n  Input should be a valid number [type=float_type, input_value='2', input_type=str]\n    For further information visit https://errors.pydantic.dev/2.11/v/float_type"
     ]
    }
   ],
   "source": [
    "from pydantic import BaseModel, Field\n",
    "\n",
    "class Product(BaseModel):\n",
    "    name: str\n",
    "    price: float = Field(strict=True, description=\"Price of the product\")\n",
    "\n",
    "item = Product(name=\"Chocolate\", price=2.99)\n",
    "item1 = Product(name=\"Chocolate\", price=\"2\")\n",
    "\n",
    "print(item)\n",
    "print(item1)"
   ]
  },
  {
   "cell_type": "markdown",
   "id": "255f94eb",
   "metadata": {},
   "source": [
    "Nested Models in Pydantic:\n",
    "--------------------------------\n",
    "Pydantic supports nested models, where one BaseModel is used as a field inside another.\n",
    "It automatically validates and parses nested dictionaries into model instances."
   ]
  },
  {
   "cell_type": "markdown",
   "id": "7ba49fed",
   "metadata": {},
   "source": []
  },
  {
   "cell_type": "code",
   "execution_count": 6,
   "id": "79be0d39",
   "metadata": {},
   "outputs": [
    {
     "name": "stdout",
     "output_type": "stream",
     "text": [
      "name='Chocolate' price=2.99 in_stock=True category=Category(id=1, name='Snacks')\n"
     ]
    }
   ],
   "source": [
    "from pydantic import BaseModel\n",
    "from typing import Optional\n",
    "\n",
    "class Category(BaseModel):\n",
    "    id: int\n",
    "    name: str\n",
    "\n",
    "class Product(BaseModel):\n",
    "    name: str\n",
    "    price: float\n",
    "    in_stock: Optional[bool] = True\n",
    "    category: Category  # Nested model\n",
    "\n",
    "# Creating a product with a nested category\n",
    "item = Product(\n",
    "    name=\"Chocolate\",\n",
    "    price=2.99,\n",
    "    category=Category(id=1, name=\"Snacks\")\n",
    ")\n",
    "\n",
    "print(item)"
   ]
  },
  {
   "cell_type": "markdown",
   "id": "781d08f3",
   "metadata": {},
   "source": [
    "***Field*** is used to add metadata, defaults, validation constraints, and documentation to model fields."
   ]
  },
  {
   "cell_type": "code",
   "execution_count": 7,
   "id": "b67cc496",
   "metadata": {},
   "outputs": [
    {
     "name": "stdout",
     "output_type": "stream",
     "text": [
      "name='Apple' price=1.25 stock=0\n"
     ]
    }
   ],
   "source": [
    "from pydantic import BaseModel, Field\n",
    "\n",
    "class Product(BaseModel):\n",
    "    name: str = Field(..., min_length=2, max_length=50, description=\"Product name\")\n",
    "    price: float = Field(..., gt=0, description=\"Must be greater than 0\")\n",
    "    stock: int = Field(default=0, ge=0, description=\"Non-negative integer\")\n",
    "\n",
    "product = Product(name=\"Apple\", price=1.25)\n",
    "print(product)\n"
   ]
  },
  {
   "cell_type": "markdown",
   "id": "fcddfed6",
   "metadata": {},
   "source": [
    "***NUMERIC CONSTRAINTS***\n",
    "There are some keyword arguments that can be used to constrain numeric values:\n",
    "\n",
    "gt - greater than\n",
    "lt - less than\n",
    "ge - greater than or equal to\n",
    "le - less than or equal to\n",
    "multiple_of - a multiple of the given number\n",
    "allow_inf_nan - allow 'inf', '-inf', 'nan' values"
   ]
  },
  {
   "cell_type": "code",
   "execution_count": 8,
   "id": "7fc2704c",
   "metadata": {},
   "outputs": [
    {
     "name": "stdout",
     "output_type": "stream",
     "text": [
      "positive=1 non_negative=0 negative=-1 non_positive=0 even=2 love_for_pydantic=inf\n"
     ]
    }
   ],
   "source": [
    "from pydantic import BaseModel, Field\n",
    "\n",
    "\n",
    "class Foo(BaseModel):\n",
    "    positive: int = Field(gt=0)\n",
    "    non_negative: int = Field(ge=0)\n",
    "    negative: int = Field(lt=0)\n",
    "    non_positive: int = Field(le=0)\n",
    "    even: int = Field(multiple_of=2)\n",
    "    love_for_pydantic: float = Field(allow_inf_nan=True)\n",
    "\n",
    "\n",
    "foo = Foo(\n",
    "    positive=1,\n",
    "    non_negative=0,\n",
    "    negative=-1,\n",
    "    non_positive=0,\n",
    "    even=2,\n",
    "    love_for_pydantic=float('inf'),\n",
    ")\n",
    "print(foo)"
   ]
  },
  {
   "cell_type": "markdown",
   "id": "6a1d1fd9",
   "metadata": {},
   "source": [
    "STRING CONSTRAINTS\n",
    "There are fields that can be used to constrain strings:\n",
    "min_length: Minimum length of the string.\n",
    "max_length: Maximum length of the string.\n",
    "pattern: A regular expression that the string must match."
   ]
  },
  {
   "cell_type": "code",
   "execution_count": 11,
   "id": "a9a49bd8",
   "metadata": {},
   "outputs": [
    {
     "name": "stdout",
     "output_type": "stream",
     "text": [
      "short='foo' long='foobarbaz' regex='123'\n"
     ]
    }
   ],
   "source": [
    "from pydantic import BaseModel, Field\n",
    "\n",
    "\n",
    "class Foo(BaseModel):\n",
    "    short: str = Field(min_length=3)\n",
    "    long: str = Field(max_length=10)\n",
    "    regex: str = Field(pattern=r'^\\d*$')  \n",
    "\n",
    "\n",
    "foo = Foo(short='foo', long='foobarbaz', regex='123')\n",
    "print(foo)"
   ]
  },
  {
   "cell_type": "markdown",
   "id": "f4f85918",
   "metadata": {},
   "source": [
    "@field_validator\n",
    "@field_validator is used to define custom validation logic for specific fields in a Pydantic model."
   ]
  },
  {
   "cell_type": "markdown",
   "id": "644277eb",
   "metadata": {},
   "source": []
  },
  {
   "cell_type": "code",
   "execution_count": 12,
   "id": "fe5cc41b",
   "metadata": {},
   "outputs": [
    {
     "name": "stdout",
     "output_type": "stream",
     "text": [
      "age=25\n"
     ]
    },
    {
     "ename": "ValidationError",
     "evalue": "1 validation error for User\nage\n  Value error, Age must be positive [type=value_error, input_value=-25, input_type=int]\n    For further information visit https://errors.pydantic.dev/2.11/v/value_error",
     "output_type": "error",
     "traceback": [
      "\u001b[1;31m---------------------------------------------------------------------------\u001b[0m",
      "\u001b[1;31mValidationError\u001b[0m                           Traceback (most recent call last)",
      "Cell \u001b[1;32mIn[12], line 13\u001b[0m\n\u001b[0;32m     11\u001b[0m user_0 \u001b[38;5;241m=\u001b[39m User(age\u001b[38;5;241m=\u001b[39m\u001b[38;5;241m25\u001b[39m)\n\u001b[0;32m     12\u001b[0m \u001b[38;5;28mprint\u001b[39m(user_0)\n\u001b[1;32m---> 13\u001b[0m user_1 \u001b[38;5;241m=\u001b[39m \u001b[43mUser\u001b[49m\u001b[43m(\u001b[49m\u001b[43mage\u001b[49m\u001b[38;5;241;43m=\u001b[39;49m\u001b[38;5;241;43m-\u001b[39;49m\u001b[38;5;241;43m25\u001b[39;49m\u001b[43m)\u001b[49m\n\u001b[0;32m     14\u001b[0m \u001b[38;5;28mprint\u001b[39m(user_1)\n",
      "File \u001b[1;32mc:\\anaconda4\\envs\\venv_satish\\lib\\site-packages\\pydantic\\main.py:253\u001b[0m, in \u001b[0;36mBaseModel.__init__\u001b[1;34m(self, **data)\u001b[0m\n\u001b[0;32m    251\u001b[0m \u001b[38;5;66;03m# `__tracebackhide__` tells pytest and some other tools to omit this function from tracebacks\u001b[39;00m\n\u001b[0;32m    252\u001b[0m __tracebackhide__ \u001b[38;5;241m=\u001b[39m \u001b[38;5;28;01mTrue\u001b[39;00m\n\u001b[1;32m--> 253\u001b[0m validated_self \u001b[38;5;241m=\u001b[39m \u001b[38;5;28;43mself\u001b[39;49m\u001b[38;5;241;43m.\u001b[39;49m\u001b[43m__pydantic_validator__\u001b[49m\u001b[38;5;241;43m.\u001b[39;49m\u001b[43mvalidate_python\u001b[49m\u001b[43m(\u001b[49m\u001b[43mdata\u001b[49m\u001b[43m,\u001b[49m\u001b[43m \u001b[49m\u001b[43mself_instance\u001b[49m\u001b[38;5;241;43m=\u001b[39;49m\u001b[38;5;28;43mself\u001b[39;49m\u001b[43m)\u001b[49m\n\u001b[0;32m    254\u001b[0m \u001b[38;5;28;01mif\u001b[39;00m \u001b[38;5;28mself\u001b[39m \u001b[38;5;129;01mis\u001b[39;00m \u001b[38;5;129;01mnot\u001b[39;00m validated_self:\n\u001b[0;32m    255\u001b[0m     warnings\u001b[38;5;241m.\u001b[39mwarn(\n\u001b[0;32m    256\u001b[0m         \u001b[38;5;124m'\u001b[39m\u001b[38;5;124mA custom validator is returning a value other than `self`.\u001b[39m\u001b[38;5;130;01m\\n\u001b[39;00m\u001b[38;5;124m'\u001b[39m\n\u001b[0;32m    257\u001b[0m         \u001b[38;5;124m\"\u001b[39m\u001b[38;5;124mReturning anything other than `self` from a top level model validator isn\u001b[39m\u001b[38;5;124m'\u001b[39m\u001b[38;5;124mt supported when validating via `__init__`.\u001b[39m\u001b[38;5;130;01m\\n\u001b[39;00m\u001b[38;5;124m\"\u001b[39m\n\u001b[0;32m    258\u001b[0m         \u001b[38;5;124m'\u001b[39m\u001b[38;5;124mSee the `model_validator` docs (https://docs.pydantic.dev/latest/concepts/validators/#model-validators) for more details.\u001b[39m\u001b[38;5;124m'\u001b[39m,\n\u001b[0;32m    259\u001b[0m         stacklevel\u001b[38;5;241m=\u001b[39m\u001b[38;5;241m2\u001b[39m,\n\u001b[0;32m    260\u001b[0m     )\n",
      "\u001b[1;31mValidationError\u001b[0m: 1 validation error for User\nage\n  Value error, Age must be positive [type=value_error, input_value=-25, input_type=int]\n    For further information visit https://errors.pydantic.dev/2.11/v/value_error"
     ]
    }
   ],
   "source": [
    "from pydantic import BaseModel, field_validator\n",
    "\n",
    "class User(BaseModel):\n",
    "    age: int\n",
    "\n",
    "    @field_validator('age')\n",
    "    def age_must_be_positive(cls, v):\n",
    "        if v <= 0:\n",
    "            raise ValueError('Age must be positive')\n",
    "        return v\n",
    "user_0 = User(age=25)\n",
    "print(user_0)\n",
    "user_1 = User(age=-25)\n",
    "print(user_1)"
   ]
  },
  {
   "cell_type": "code",
   "execution_count": null,
   "id": "a98a8853",
   "metadata": {},
   "outputs": [],
   "source": []
  }
 ],
 "metadata": {
  "kernelspec": {
   "display_name": "venv_satish",
   "language": "python",
   "name": "python3"
  },
  "language_info": {
   "codemirror_mode": {
    "name": "ipython",
    "version": 3
   },
   "file_extension": ".py",
   "mimetype": "text/x-python",
   "name": "python",
   "nbconvert_exporter": "python",
   "pygments_lexer": "ipython3",
   "version": "3.10.18"
  }
 },
 "nbformat": 4,
 "nbformat_minor": 5
}
