{
 "cells": [
  {
   "cell_type": "markdown",
   "id": "347cd31f",
   "metadata": {},
   "source": [
    "https://hub.oofn.in/rag-pipeline/\n",
    "Good One to get the overview"
   ]
  },
  {
   "cell_type": "code",
   "execution_count": null,
   "id": "d467a70d",
   "metadata": {},
   "outputs": [],
   "source": [
    "from dotenv import load_dotenv\n",
    "import os\n",
    "load_dotenv()\n",
    "\n",
    "os.getenv(\"LANGCHAIN_PROJECT\")\n",
    "os.environ[\"OPENAI_API_KEY\"]=os.getenv(\"OPENAI_API_KEY\")\n",
    "os.environ[\"GROQ_API_KEY\"]=os.getenv(\"GROQ_API_KEY\")\n",
    "\n",
    "## Langsmith Tracking And Tracing\n",
    "os.environ[\"LANGCHAIN_API_KEY\"]=os.getenv(\"LANGCHAIN_API_KEY\")\n",
    "os.environ[\"LANGCHAIN_PROJECT\"]=os.getenv(\"LANGCHAIN_PROJECT\")\n",
    "os.environ[\"LANGCHAIN_TRACING_V2\"]=\"true\""
   ]
  },
  {
   "cell_type": "code",
   "execution_count": null,
   "id": "662d78df",
   "metadata": {},
   "outputs": [],
   "source": []
  },
  {
   "cell_type": "code",
   "execution_count": null,
   "id": "6c5a0351",
   "metadata": {},
   "outputs": [],
   "source": [
    "from langchain_community.document_loaders import PyPDFLoader\n",
    "from langchain_text_splitters import RecursiveCharacterTextSplitter\n",
    "import faiss\n",
    "from langchain_community.vectorstores import FAISS\n",
    "from langchain_community.docstore.in_memory import InMemoryDocstore\n",
    "from langchain_huggingface import HuggingFaceEmbeddings\n",
    "\n",
    "FILE_PATH = r\"llama2.pdf\"\n",
    "loader = PyPDFLoader(FILE_PATH)\n",
    "pages = loader.load()\n",
    "\n",
    "splitter = RecursiveCharacterTextSplitter(\n",
    "    chunk_size=500,\n",
    "    chunk_overlap=50\n",
    ")\n",
    "split_docx = splitter.split_documents(pages)\n",
    "\n",
    "embeddings=HuggingFaceEmbeddings(model_name=\"all-MiniLM-L6-v2\")"
   ]
  },
  {
   "cell_type": "code",
   "execution_count": null,
   "id": "c3b2f700",
   "metadata": {},
   "outputs": [],
   "source": [
    "index=faiss.IndexFlatIP(384)\n",
    "vector_store=FAISS(embeddings,index=index,index_to_docstore_id={},docstore=InMemoryDocstore())"
   ]
  },
  {
   "cell_type": "code",
   "execution_count": null,
   "id": "b7a68dca",
   "metadata": {},
   "outputs": [],
   "source": [
    "vector_store.add_documents(split_docx)"
   ]
  },
  {
   "cell_type": "code",
   "execution_count": null,
   "id": "04afccb2",
   "metadata": {},
   "outputs": [],
   "source": [
    "rretriver = vector_store.as_retriever(\n",
    "    search_kwargs={\"k\": 10}\n",
    ")"
   ]
  },
  {
   "cell_type": "code",
   "execution_count": null,
   "id": "b7313f5c",
   "metadata": {},
   "outputs": [],
   "source": [
    "rretriver.invoke(\"what is llama model?\")"
   ]
  },
  {
   "cell_type": "code",
   "execution_count": null,
   "id": "13817440",
   "metadata": {},
   "outputs": [],
   "source": []
  }
 ],
 "metadata": {
  "kernelspec": {
   "display_name": "venv_satish",
   "language": "python",
   "name": "python3"
  },
  "language_info": {
   "codemirror_mode": {
    "name": "ipython",
    "version": 3
   },
   "file_extension": ".py",
   "mimetype": "text/x-python",
   "name": "python",
   "nbconvert_exporter": "python",
   "pygments_lexer": "ipython3",
   "version": "3.10.18"
  }
 },
 "nbformat": 4,
 "nbformat_minor": 5
}
