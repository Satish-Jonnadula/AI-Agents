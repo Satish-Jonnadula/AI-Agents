{
 "cells": [
  {
   "cell_type": "markdown",
   "id": "52226936",
   "metadata": {},
   "source": [
    "https://python.langchain.com/docs/integrations/tools/\n",
    "-- Different Lanchain Tools"
   ]
  },
  {
   "cell_type": "code",
   "execution_count": null,
   "id": "eb148513",
   "metadata": {},
   "outputs": [],
   "source": [
    "from langchain_community.tools import WikipediaQueryRun\n",
    "from langchain_community.utilities  import WikipediaAPIWrapper\n",
    "\n",
    "api_wrapper = WikipediaAPIWrapper(top_k_results=5, doc_content_chars_max=500)\n",
    "wikipedia_tool = WikipediaQueryRun(api_wrapper=api_wrapper)\n",
    "def run_wikipedia_query(query: str) -> str:\n",
    "    \"\"\"Run a query against Wikipedia and return the result.\"\"\"\n",
    "    result = wikipedia_tool.run(query)\n",
    "    return result\n",
    "\n"
   ]
  },
  {
   "cell_type": "code",
   "execution_count": null,
   "id": "224cda58",
   "metadata": {},
   "outputs": [],
   "source": [
    "wikipedia_tool.run({\"query\":\"elon musk\"})"
   ]
  },
  {
   "cell_type": "code",
   "execution_count": null,
   "id": "b1434fd4",
   "metadata": {},
   "outputs": [],
   "source": [
    "!pip install youtube_search"
   ]
  },
  {
   "cell_type": "code",
   "execution_count": 11,
   "id": "ed113d39",
   "metadata": {},
   "outputs": [
    {
     "data": {
      "text/plain": [
       "\"['https://www.youtube.com/watch?v=oFMixPMJ6Ko&pp=ygUMc3Vubnkgc2F2aXRh0gcJCd4JAYcqIYzv', 'https://www.youtube.com/watch?v=_V3zqVlCACQ&pp=ygUMc3Vubnkgc2F2aXRh']\""
      ]
     },
     "execution_count": 11,
     "metadata": {},
     "output_type": "execute_result"
    }
   ],
   "source": [
    "from langchain_community.tools import YouTubeSearchTool\n",
    "tool=YouTubeSearchTool()\n",
    "tool.run(\"sunny savita\")\n"
   ]
  },
  {
   "cell_type": "code",
   "execution_count": 14,
   "id": "1be3dcd9",
   "metadata": {},
   "outputs": [],
   "source": [
    "from langchain_community.tools.tavily_search import TavilySearchResults\n",
    "TavilySearchResults=TavilySearchResults(\n",
    "    tavily_api_key=\"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\")"
   ]
  },
  {
   "cell_type": "code",
   "execution_count": 15,
   "id": "8759f45c",
   "metadata": {},
   "outputs": [
    {
     "data": {
      "text/plain": [
       "[{'title': 'RCB wins IPL 2025: Understanding the powerful Sanskrit phrase ...',\n",
       "  'url': 'https://timesofindia.indiatimes.com/sports/cricket/ipl/top-stories/rcb-wins-ipl-2025-understanding-the-powerful-sanskrit-phrase-engraved-on-the-ipl-trophy/articleshow/121689644.cms',\n",
       "  'content': 'Royal Challengers Bengaluru (RCB) won their first-ever IPL title by beating Punjab Kings (PBKS) by 6 runs in the 2025 final at Ahmedabad\\'s Narendra Modi Stadium. In a battle between two teams that had never won the IPL, it was Rajat Patidar\\'s RCB that kept their cool to defend a target of 191 on a demanding pitch.The win also saw a long-awaited victory for Virat Kohli, whose unwavering quest for the IPL title had finally been realised. Earlier in the season, RCB had become the first team in IPL [...] In 2025, the Royal Challengers Bangalore (RCB) ended their long drought and won their inaugural IPL title, becoming the 8th title-winning team after 18 long years. However, as the camera panned over the trophy during the celebrations, fans might have caught sight of an etched line in Roman script (English letters) that stood out from the rest in terms of its age in comparison with glitz around it.The line states: \"Yatra Pratibha Avsara Prapnotihi\"Though the trophy has undergone transformations [...] Royal Challengers Bengaluru won the Indian Premier League in 2025. The team defeated Punjab Kings in the final match. The IPL trophy has a Sanskrit phrase inscribed on it. The phrase translates to \\'Where talent meets opportunity\\'. The winning team does not keep the original trophy. The Board of Control for Cricket in India retains the trophy.',\n",
       "  'score': 0.8415267},\n",
       " {'title': 'RCB victory parade stampede updates: Bengaluru city chief B ...',\n",
       "  'url': 'https://www.thehindu.com/news/national/rcb-ipl-victory-parade-stampede-death-toll-virat-kohli-chinnaswamy-stadium-live/article69656707.ece',\n",
       "  'content': 'The joyous celebrations following [Royal Challengers Bengaluru’s (RCB) IPL win](https://www.thehindu.com/sport/cricket/indian-premier-league-2025-finals-royal-challengers-bengaluru-vs-punjab-kings/article69653108.ece) turned deadly on Wednesday (June 4, 2025) evening, as a [stampede at M. Chinnaswamy Stadium claimed 11 lives and injured 33](https://www.thehindu.com/news/cities/bangalore/rcb-ipl-victory-celebrations-stampede-bengaluru-death-toll/article69656538.ece). Overcrowding, confusion over [...] A stampede that broke out near the Chinnaswamy stadium in Bengaluru, after fans gathered to celebrate Royal Challengers Bengaluru’s IPL win, led to the [deaths of 11 persons and injuries to 33](https://www.thehindu.com/news/cities/bangalore/rcb-ipl-victory-celebrations-stampede-bengaluru-death-toll/article69656538.ece) on Wednesday (June 4, 2025). The tragedy unfolded near the gates of the stadium, where over 2 lakh fans had gathered to mark RCB’s historic first title win in 18 years. [...] Ten persons are feared dead while 24 people, including a six-year-old girl, are believed to be injured as thousands of fans gathered outside the M. Chinnaswamy Stadium in Bengaluru to celebrate the victory of Royal Challengers Bengaluru in the IPL 2025 championship, on June 4. The death toll is expected to go up.\\n\\nPublished - June 04, 2025\\n\\n### Related Topics',\n",
       "  'score': 0.81875163},\n",
       " {'title': \"RCB's IPL 2025 trophy parade takes tragic turn as stampede claims ...\",\n",
       "  'url': 'https://www.olympics.com/en/news/royal-challengers-bengaluru-ipl-2025-trophy-parade-stampede',\n",
       "  'content': \"**Royal Challengers Bengaluru**'s celebrations to mark their [**IPL 2025**](https://www.olympics.com/en/news/ipl-2025-results-cricket-scores-standings-points-table-net-run-rate) triumph took a tragic turn on Wednesday as 11 people lost their lives and over 30 were left injured in a stampede during the trophy parade outside the M Chinnaswamy Stadium. [...] [Sign In](https://www.olympics.com/en/sign-in?origin=https://www.olympics.com/en/news/royal-challengers-bengaluru-ipl-2025-trophy-parade-stampede&entry_point_type=home_sign_in&entry_point_tag=BAU)\\n\\nTriumph turns to tragedy as stampede claims lives during RCB’s IPL 2025 victory parade in Bengaluru\\n=================================================================================================== [...] Over 30 were left injured, while 11 died after chaos erupted outside the M Chinnaswamy Stadium. Sachin Tendulkar expressed his condolences to the victims and their families.\\n\\n![Image 2: Fans of the Royal Challengers Bengaluru (RCB) jump over barricades](https://img.olympics.com/images/image/private/t_s_16_9_g_auto/t_s_w960/f_auto/primary/epaiq6bq71shs8plbvcw)\\n\\nPicture by Getty Images\\n\\nBy Andre Pitts 04 June 2025 17:27 GMT+0 2 min read\",\n",
       "  'score': 0.79732054},\n",
       " {'title': 'Kohli and RCB are finally IPL champions - ESPNcricinfo',\n",
       "  'url': 'https://www.espncricinfo.com/series/ipl-2025-1449924/punjab-kings-vs-royal-challengers-bengaluru-final-1473511/match-report',\n",
       "  'content': \"Eighteen seasons in, [Royal Challengers Bengaluru](https://www.espncricinfo.com/team/royal-challengers-bengaluru-335970) (RCB) are finally IPL champions. Their victory in their fourth final came at the expense of another trophy-less team that had put together a heartwarming [IPL 2025](https://www.espncricinfo.com/series/ipl-2025-1449924) campaign; it wasn't to be for [Punjab Kings](https://www.espncricinfo.com/team/punjab-kings-335973) (PBKS), but their time will surely come too.\",\n",
       "  'score': 0.751375},\n",
       " {'title': \"Siddharth Mallya's Rant Against BCCI, IPL After RCB Video Gets ...\",\n",
       "  'url': 'https://sports.ndtv.com/ipl-2025/siddharth-mallyas-big-accusation-against-ipl-after-rcb-celebration-video-taken-down-8629901',\n",
       "  'content': 'As the Royal Challengers Bengaluru (RCB) won the Indian Premier League (IPL) 2025 title, exactly a week ago on June 03, the entire cricketing world went gaga, singing praises of the franchise. [Virat Kohli](https://sports.ndtv.com/cricket/players/967-virat-kohli-playerprofile \"Virat Kohli\"), the owners of the franchise, and the fans had to wait for 18 years before they could feel what it meant to be an IPL champion. Even Siddharth Mallya, son of RCB\\'s former owner and a fugitive, Vijay Mallya, [...] ![Image 10: Siddharth Mallya\\'s Rant Against BCCI, IPL After RCB Video Gets Removed](https://c.ndtvimg.com/2025-06/pacdhqn_siddharth-mallya-insta_625x300_10_June_25.jpeg)\\n\\nSiddharth Mallya video on RCB\\'s victory taken down by Instagram© Instagram\\n\\n Quick Read \\n\\n Summary is AI generated, newsroom reviewed \\n\\nRCB won the IPL 2025 title on June 3, ending an 18-year wait for the franchise. \\n\\nSiddharth Mallya celebrated the victory with an emotional video shared on Instagram.',\n",
       "  'score': 0.6607204}]"
      ]
     },
     "execution_count": 15,
     "metadata": {},
     "output_type": "execute_result"
    }
   ],
   "source": [
    "TavilySearchResults.invoke(\"What happend in the RCB vicotery in IPL 2025?\")"
   ]
  },
  {
   "cell_type": "code",
   "execution_count": 23,
   "id": "a9f6134a",
   "metadata": {},
   "outputs": [
    {
     "data": {
      "text/plain": [
       "6"
      ]
     },
     "execution_count": 23,
     "metadata": {},
     "output_type": "execute_result"
    }
   ],
   "source": [
    "from langchain.agents import tool\n",
    "@tool\n",
    "def multiply(a:int,b:int) -> int:\n",
    "    \"\"\"Multiply two numbers.\"\"\"\n",
    "    return a * b\n",
    "\n",
    "multiply.run({\"a\":2, \"b\":3})"
   ]
  },
  {
   "cell_type": "code",
   "execution_count": 25,
   "id": "bd1e5b79",
   "metadata": {},
   "outputs": [
    {
     "data": {
      "text/plain": [
       "6"
      ]
     },
     "execution_count": 25,
     "metadata": {},
     "output_type": "execute_result"
    }
   ],
   "source": [
    "multiply.invoke({\"a\": 2, \"b\": 3})\n"
   ]
  },
  {
   "cell_type": "code",
   "execution_count": 28,
   "id": "1ee59343",
   "metadata": {},
   "outputs": [
    {
     "data": {
      "text/plain": [
       "{'a': {'title': 'A', 'type': 'integer'},\n",
       " 'b': {'title': 'B', 'type': 'integer'}}"
      ]
     },
     "execution_count": 28,
     "metadata": {},
     "output_type": "execute_result"
    }
   ],
   "source": [
    "multiply.args"
   ]
  },
  {
   "cell_type": "code",
   "execution_count": 54,
   "id": "51f566ce",
   "metadata": {},
   "outputs": [],
   "source": [
    "def function1(input1):\n",
    "    return input1 + \"from first function\"\n",
    "\n",
    "def function2(input2):\n",
    "    return input2 + \"and second function\"\n",
    "\n",
    "def function3(input3):\n",
    "    return input3 + \"hello third function\"\n"
   ]
  },
  {
   "cell_type": "code",
   "execution_count": 32,
   "id": "c7f3c471",
   "metadata": {},
   "outputs": [
    {
     "data": {
      "text/plain": [
       "'satish first function'"
      ]
     },
     "execution_count": 32,
     "metadata": {},
     "output_type": "execute_result"
    }
   ],
   "source": [
    "function1(\"satish\")"
   ]
  },
  {
   "cell_type": "code",
   "execution_count": 6,
   "id": "e09c7645",
   "metadata": {},
   "outputs": [
    {
     "ename": "NameError",
     "evalue": "name 'function1' is not defined",
     "output_type": "error",
     "traceback": [
      "\u001b[1;31m---------------------------------------------------------------------------\u001b[0m",
      "\u001b[1;31mNameError\u001b[0m                                 Traceback (most recent call last)",
      "Cell \u001b[1;32mIn[6], line 3\u001b[0m\n\u001b[0;32m      1\u001b[0m \u001b[38;5;28;01mfrom\u001b[39;00m\u001b[38;5;250m \u001b[39m\u001b[38;5;21;01mlanggraph\u001b[39;00m\u001b[38;5;21;01m.\u001b[39;00m\u001b[38;5;21;01mgraph\u001b[39;00m\u001b[38;5;250m \u001b[39m\u001b[38;5;28;01mimport\u001b[39;00m Graph\n\u001b[0;32m      2\u001b[0m workflow \u001b[38;5;241m=\u001b[39m Graph()\n\u001b[1;32m----> 3\u001b[0m workflow\u001b[38;5;241m.\u001b[39madd_node(\u001b[38;5;124m\"\u001b[39m\u001b[38;5;124mfun1\u001b[39m\u001b[38;5;124m\"\u001b[39m, \u001b[43mfunction1\u001b[49m)\n\u001b[0;32m      4\u001b[0m workflow\u001b[38;5;241m.\u001b[39madd_node(\u001b[38;5;124m\"\u001b[39m\u001b[38;5;124mfun2\u001b[39m\u001b[38;5;124m\"\u001b[39m, function2)\n\u001b[0;32m      5\u001b[0m workflow\u001b[38;5;241m.\u001b[39madd_node(\u001b[38;5;124m\"\u001b[39m\u001b[38;5;124mfun3\u001b[39m\u001b[38;5;124m\"\u001b[39m, function3)\n",
      "\u001b[1;31mNameError\u001b[0m: name 'function1' is not defined"
     ]
    }
   ],
   "source": [
    "from langgraph.graph import Graph\n",
    "workflow = Graph()\n",
    "workflow.add_node(\"fun1\", function1)\n",
    "workflow.add_node(\"fun2\", function2)\n",
    "workflow.add_node(\"fun3\", function3)\n",
    "workflow.add_edge(\"fun1\", \"fun2\")\n",
    "workflow.add_edge(\"fun2\", \"fun3\")\n"
   ]
  },
  {
   "cell_type": "code",
   "execution_count": 60,
   "id": "b07003a1",
   "metadata": {},
   "outputs": [],
   "source": [
    "workflow.set_entry_point(\"fun1\")\n",
    "\n",
    "workflow.set_finish_point(\"fun3\")\n",
    "app=workflow.compile()"
   ]
  },
  {
   "cell_type": "code",
   "execution_count": 5,
   "id": "553b97d3",
   "metadata": {},
   "outputs": [],
   "source": [
    "from IPython.display import display, Image"
   ]
  },
  {
   "cell_type": "code",
   "execution_count": 61,
   "id": "b9791b3f",
   "metadata": {},
   "outputs": [
    {
     "data": {
      "image/png": "[encoded data removed]",
      "text/plain": [
       "<IPython.core.display.Image object>"
      ]
     },
     "metadata": {},
     "output_type": "display_data"
    }
   ],
   "source": [
    "display(Image(app.get_graph().draw_mermaid_png()))\n"
   ]
  },
  {
   "cell_type": "code",
   "execution_count": 62,
   "id": "3fe014a9",
   "metadata": {},
   "outputs": [
    {
     "data": {
      "text/plain": [
       "'this is tejafrom first functionand second functionhello third function'"
      ]
     },
     "execution_count": 62,
     "metadata": {},
     "output_type": "execute_result"
    }
   ],
   "source": [
    "app.invoke(\"this is teja\")"
   ]
  },
  {
   "cell_type": "code",
   "execution_count": 63,
   "id": "be2d1e64",
   "metadata": {},
   "outputs": [
    {
     "name": "stdout",
     "output_type": "stream",
     "text": [
      "fun1: this is tejafrom first function\n",
      "fun2: this is tejafrom first functionand second function\n",
      "fun3: this is tejafrom first functionand second functionhello third function\n"
     ]
    }
   ],
   "source": [
    "for output in app.stream(\"this is teja\"):\n",
    "    for key, value in output.items():\n",
    "        print(f\"{key}: {value}\")"
   ]
  },
  {
   "cell_type": "code",
   "execution_count": 13,
   "id": "311fa9e1",
   "metadata": {},
   "outputs": [
    {
     "data": {
      "text/plain": [
       "AIMessage(content=\"The IPL 2025 has not yet been officially announced or scheduled.  Information regarding teams, venues, dates, and even the format are purely speculative at this point.  The Board of Control for Cricket in India (BCCI) typically announces details for the following year's IPL several months in advance.  \\n\\nTo find out about IPL 2025, you will need to wait for official announcements from the BCCI, likely sometime in late 2024 or early 2025.  Keep an eye on their official website and reputable sports news sources for updates.\", additional_kwargs={}, response_metadata={'prompt_feedback': {'block_reason': 0, 'safety_ratings': []}, 'finish_reason': 'STOP', 'model_name': 'gemini-1.5-flash', 'safety_ratings': []}, id='run--9ddcd584-d502-432d-94ac-4970c1b0fea6-0', usage_metadata={'input_tokens': 10, 'output_tokens': 124, 'total_tokens': 134, 'input_token_details': {'cache_read': 0}})"
      ]
     },
     "execution_count": 13,
     "metadata": {},
     "output_type": "execute_result"
    }
   ],
   "source": [
    "from langchain_google_genai import ChatGoogleGenerativeAI\n",
    "model= ChatGoogleGenerativeAI(model=\"gemini-1.5-flash\")\n",
    "model.invoke(\"Tell me about the IPL 2025\")"
   ]
  },
  {
   "cell_type": "code",
   "execution_count": 12,
   "id": "9ab81322",
   "metadata": {},
   "outputs": [
    {
     "name": "stdout",
     "output_type": "stream",
     "text": [
      "llm: The IPL 2025 is still far off, and details are not yet available.  Official announcements regarding venues, teams, player auctions, and the schedule are typically made closer to the event.  \n",
      "\n",
      "However, we can anticipate some things:\n",
      "\n",
      "* **Ten Teams:**  The IPL will likely continue with its current ten teams.\n",
      "* **Similar Format:** The format will probably remain largely the same as previous seasons, with a league stage followed by playoffs.\n",
      "* **Player Auction:**  There will be a player auction to allow teams to build their squads.  This is usually a highly anticipated event.\n",
      "* **Media Coverage:**  The tournament will have extensive media coverage across television and digital platforms.\n",
      "\n",
      "To stay updated, you should follow the official IPL website and social media accounts, as well as reputable sports news outlets.  Information will become available as the tournament approaches.\n",
      "token_counter: Input tokens: 137\n"
     ]
    }
   ],
   "source": [
    "from langgraph.graph import Graph\n",
    "def llm(input_text: str) -> str:\n",
    "    from langchain_google_genai import ChatGoogleGenerativeAI\n",
    "    model= ChatGoogleGenerativeAI(model=\"gemini-1.5-flash\")\n",
    "    output= model.invoke(input_text)\n",
    "    return output.content\n",
    "def token_counter(input_text: str) -> int:\n",
    "    input_tokens = len(input_text.split())\n",
    "    return f\"Input tokens: {input_tokens}\"\n",
    "\n",
    "workflow2=Graph()\n",
    "workflow2.add_node(\"llm\", llm)\n",
    "workflow2.add_node(\"token_counter\", token_counter)\n",
    "workflow2.add_edge(\"llm\", \"token_counter\")\n",
    "workflow2.set_entry_point(\"llm\")    \n",
    "workflow2.set_finish_point(\"token_counter\")\n",
    "app2 = workflow2.compile()\n",
    "app2.invoke(\"What is the capital of India?\")\n",
    "\n",
    "for output in app2.stream(\"tell me aout the IPL 2025\"):\n",
    "    for key, value in output.items():\n",
    "        print(f\"{key}: {value}\")"
   ]
  },
  {
   "cell_type": "code",
   "execution_count": 68,
   "id": "b0c77ba5",
   "metadata": {},
   "outputs": [
    {
     "data": {
      "image/png": "[encoded data removed]",
      "text/plain": [
       "<IPython.core.display.Image object>"
      ]
     },
     "metadata": {},
     "output_type": "display_data"
    }
   ],
   "source": [
    "app2.get_graph().draw_mermaid_png()\n",
    "display(Image(app2.get_graph().draw_mermaid_png()))\n"
   ]
  },
  {
   "cell_type": "code",
   "execution_count": null,
   "id": "b7c3a967",
   "metadata": {},
   "outputs": [],
   "source": []
  }
 ],
 "metadata": {
  "kernelspec": {
   "display_name": "Python 3",
   "language": "python",
   "name": "python3"
  },
  "language_info": {
   "codemirror_mode": {
    "name": "ipython",
    "version": 3
   },
   "file_extension": ".py",
   "mimetype": "text/x-python",
   "name": "python",
   "nbconvert_exporter": "python",
   "pygments_lexer": "ipython3",
   "version": "3.10.18"
  }
 },
 "nbformat": 4,
 "nbformat_minor": 5
}
